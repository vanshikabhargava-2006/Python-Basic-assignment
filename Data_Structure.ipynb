{
  "nbformat": 4,
  "nbformat_minor": 0,
  "metadata": {
    "colab": {
      "provenance": []
    },
    "kernelspec": {
      "name": "python3",
      "display_name": "Python 3"
    },
    "language_info": {
      "name": "python"
    }
  },
  "cells": [
    {
      "cell_type": "markdown",
      "source": [
        "##Data Types and Structures Questions\n"
      ],
      "metadata": {
        "id": "w6hkzBg70tOG"
      }
    },
    {
      "cell_type": "markdown",
      "source": [
        "1. What are data structures, and why are they important?\n",
        "  \n",
        "    -> In Python, data structures are ways of organizing and storing data so that you can efficiently access, modify, and manage it. Common built-in data structures in Python include:\n",
        "    \n",
        "    1.Lists: Ordered collections that can hold multiple items.\n",
        "  \n",
        "    2.Tuples: Immutable, ordered collections.\n",
        "    \n",
        "    3.Dictionaries: Key-value pairs, allowing fast lookups.\n",
        "    \n",
        "    4.Sets: Unordered collections with no duplicate elements.\n",
        "    Why they are important:\n",
        "\n",
        "#Why they are important:\n",
        "\n",
        ". Efficiency: They optimize the time complexity of operations (like searching, inserting, and deleting).\n",
        "\n",
        ".Flexibility: Python’s data structures can be used to solve a wide range of problems.\n",
        "\n",
        ".Readability: They help organize data clearly and logically."
      ],
      "metadata": {
        "id": "Iz8t8TPq01fv"
      }
    },
    {
      "cell_type": "code",
      "source": [
        "#2.Explain the difference between mutable and immutable data types with examples.\n",
        "# ->Mutable data types can be changed or modified after they are created, while immutable data types cannot be changed once they are created.\n",
        "## Mutable\n",
        "# . example\n",
        "#. Explanation: You can change their content (add, remove, or modify elements).\n",
        " # List (mutable)\n",
        "my_list = [1, 2, 3]\n",
        "my_list[0] = 10  # Modify an element\n",
        "print(my_list)  # Output: [10, 2, 3]\n",
        "#Immutable:\n",
        "# . Example: int, float, str, tuple\n",
        "# . Explanation: Once created, their values cannot be modified.\n",
        "# Tuple (immutable)\n",
        "my_tuple = (1, 2, 3)\n",
        "# my_tuple[0] = 10  # This would raise an error\n",
        "\n",
        "\n"
      ],
      "metadata": {
        "colab": {
          "base_uri": "https://localhost:8080/"
        },
        "id": "vW6UnxaW3pSf",
        "outputId": "bf2322d2-568a-4fa1-f5a6-e6bd912cbae6"
      },
      "execution_count": null,
      "outputs": [
        {
          "output_type": "stream",
          "name": "stdout",
          "text": [
            "[10, 2, 3]\n"
          ]
        }
      ]
    },
    {
      "cell_type": "markdown",
      "source": [
        "3.What are the main differences between lists and tuples in Python?\n",
        "\n",
        "   ->The main differences between **lists** and **tuples** in Python are:\n",
        "\n",
        "1. **Mutability**:\n",
        "   - **List**: Mutable (can be changed).\n",
        "   - **Tuple**: Immutable (cannot be changed).\n",
        "\n",
        "2. **Syntax**:\n",
        "   - **List**: Defined with square brackets `[]`.\n",
        "   - **Tuple**: Defined with parentheses `()`.\n",
        "\n",
        "3. **Performance**:\n",
        "   - **List**: Slower due to its mutability.\n",
        "   - **Tuple**: Faster because it’s immutable.\n",
        "\n",
        "4. **Use Case**:\n",
        "   - **List**: Used for dynamic data that can change.\n",
        "   - **Tuple**: Used for fixed, unchangeable data.\n",
        "\n"
      ],
      "metadata": {
        "id": "JIyuYyvBCj38"
      }
    },
    {
      "cell_type": "markdown",
      "source": [
        "4.Describe how dictionaries store data?\n",
        "\n",
        "   ->In Python, dictionaries store data in key-value pairs. Each key is unique, and it maps to a corresponding value. This allows for fast lookups, additions, and deletions.\n",
        "\n",
        "Key Characteristics:\n",
        "Keys: Must be immutable (e.g., strings, numbers, tuples).\n",
        "Values: Can be of any data type (mutable or immutable).\n",
        "Unordered: The items are stored without any specific order (although in Python 3.7+ dictionaries preserve insertion order)."
      ],
      "metadata": {
        "id": "48cDNbCQDBo6"
      }
    },
    {
      "cell_type": "markdown",
      "source": [
        "5.Why might you use a set instead of a list in Python?\n",
        "    \n",
        "  ->You might use a **set** instead of a **list** in Python when:\n",
        "\n",
        "1. **Uniqueness**: Sets automatically eliminate duplicates, while lists allow them.\n",
        "2. **Faster membership testing**: Checking if an element exists in a set is faster (O(1) on average) compared to a list (O(n)).\n",
        "3. **Set operations**: Sets support operations like union, intersection, and difference directly, which lists do not.\n",
        "\n",
        "In short, use a set when you need unique elements and fast membership checks, and a list  when you need ordered, possibly duplicate, elements."
      ],
      "metadata": {
        "id": "jW8NRed_DYeP"
      }
    },
    {
      "cell_type": "markdown",
      "source": [
        "6. What is a string in Python, and how is it different from a list?\n",
        "\n",
        " ->A string in Python is a sequence of characters enclosed in quotes (single, double, or triple quotes). It is used to represent text data.\n",
        "\n",
        "Differences between a string and a list in Python:\n",
        "Mutability:\n",
        "\n",
        "1.String: Immutable – Once created, you cannot modify individual characters.\n",
        "List: Mutable – You can modify, add, or remove elements.\n",
        "Data type:\n",
        "\n",
        "2.String: Only stores characters (text).\n",
        "List: Can store any data type (numbers, strings, objects, etc.).\n",
        "Operations:\n",
        "\n",
        "3.String: Supports string-specific operations like concatenation, slicing, and formatting.\n",
        "List: Supports operations like appending, removing, and modifying individual elements."
      ],
      "metadata": {
        "id": "xoBIyCGyEAVV"
      }
    },
    {
      "cell_type": "markdown",
      "source": [
        "7. How do tuples ensure data integrity in Python?\n",
        "\n",
        "  ->Tuples are immutable to ensure that their contents remain constant throughout their lifecycle, guaranteeing data integrity and reliability. This immutability allows tuples to be used as keys in dictionaries and elements in sets, as they can be hashed."
      ],
      "metadata": {
        "id": "0yyr_N-KkqOd"
      }
    },
    {
      "cell_type": "markdown",
      "source": [
        "8.What is a hash table, and how does it relate to dictionaries in Python?\n",
        "\n",
        "  ->A hash table is a data structure that allows you to store a collection of key-value pairs. In a hash table, the key of every key-value pair must be hashable, because the pairs stored are indexed by using the hash of their keys"
      ],
      "metadata": {
        "id": "40g7UbRdm1yZ"
      }
    },
    {
      "cell_type": "markdown",
      "source": [
        "9. Can lists contain different data types in Python?\n",
        "\n",
        "  ->Although it's not really common, a list can also contain a mix of Python types including strings, floats, and booleans."
      ],
      "metadata": {
        "id": "edJU9GLfnGxe"
      }
    },
    {
      "cell_type": "markdown",
      "source": [
        "10.Explain why strings are immutable in Python?\n",
        "\n",
        "  ->Python strings are \"immutable\" which means they cannot be changed after they are created (Java strings also use this immutable style). Since strings can't be changed, we construct *new* strings as we go to represent computed values."
      ],
      "metadata": {
        "id": "1LfujAGgnUSJ"
      }
    },
    {
      "cell_type": "markdown",
      "source": [
        "11.What advantages do dictionaries offer over lists for certain tasks?\n",
        "  ->Dictionaries are faster than lists for lookups and are ideal for tasks that require frequent searches. They are also more flexible and can store complex data structures.\n",
        "\n",
        "Advantages of dictionaries.\n",
        "\n",
        ".Fast lookups: Dictionaries use a hash table to store key-value pairs, which allows for very fast lookups.\n",
        "\n",
        ".Flexible: Dictionaries can store any type of data as both the key and the value.\n",
        "\n",
        ".Memory efficient: Dictionaries only store the key-value pairs that are needed.\n",
        "\n",
        ".Easy to use: Dictionaries have a wide range of built-in functions and methods.\n",
        "\n",
        ".Make code easier to read: Dictionaries make it easier to read code when generating key:value pairs.\n",
        "\n",
        "When to use dictionaries\n",
        "\n",
        ".For quick data look-ups, configurations, or caches\n",
        "\n",
        ".For storing complex data structures such as graphs and databases\n",
        "\n",
        ".For finding a certain Python object\n",
        "\n",
        "When to use lists\n",
        "\n",
        ".For ordered collections and sequence operations, such as maintaining a stack or queue\n",
        "\n",
        ".For ordered operations like sorting"
      ],
      "metadata": {
        "id": "LiDPcS0Pnqbq"
      }
    },
    {
      "cell_type": "markdown",
      "source": [
        "12. Describe a scenario where using a tuple would be preferable over a list\n",
        "  \n",
        "  ->Use a tuple if you need an immutable collection where the elements won't change after creation. Tuples are generally faster and more memory-efficient than lists, making them better for fixed collections, especially as dictionary keys or when iteration speed is crucial"
      ],
      "metadata": {
        "id": "-59m-rcwomht"
      }
    },
    {
      "cell_type": "markdown",
      "source": [
        "13. How do sets handle duplicate values in Python?\n",
        "   \n",
        "   ->tems of a set in python are immutable (unchangeable), do not duplicate values, and unordered. Thus, items in a set do not appear in a stipulated manner, i.e., they can appear in a different order every time it is used. Due to this, set items cannot be referred to by key or index.\n"
      ],
      "metadata": {
        "id": "sV61yErFoyPo"
      }
    },
    {
      "cell_type": "code",
      "source": [
        "#14. How does the “in” keyword work differently for lists and dictionaries?\n",
        "# ->Lists and Dictionaries in Python are inbuilt data structures that are used to store data. Lists are linear in nature whereas dictionaries stored the data in key-value pairs. In this article, we will see the difference between the two and find out the time complexities and space complexities which arises when we try to store data and try to perform certain operations on them.\n",
        "\n",
        "#Lists in Python\n",
        "#Lists are used to create Dynamic Array in Python just like ArrayList in Java and Vectors i C++. Dynamic Array is a Data Structure whose size can be increased or decreased dynamically after it has been declared during runtime because of which programmers are not required to specify the length of the array. Lists are heterogenous and can contain different types of data such as Integers, Strings, Lists, as well as inbuilt or user-defined Objects. Lists are mutable, which means that if we modify the list, then any other variable referencing to this list also gets modified.\n",
        "\n",
        "#Example: In this example, we will see how to create a simple one-dimensional list as well as a two-dimensional list in Python and access its values using the list index.\n",
        "\n",
        "\n",
        "\n",
        " # Python program to demonstrate Lists\n",
        "\n",
        "# Creating a 1D List\n",
        "List = [\"Geeks\", \"For\", \"Geeks\"] # List of Strings\n",
        "print(\"List containing multiple values: \", List)\n",
        "\n",
        "# Accessing particular elements\n",
        "print(List[0])\n",
        "print(List[0][1])\n",
        "print(List[1])\n",
        "\n",
        "# Creating a 2D List\n",
        "List = [['Geeks', 'For'], ['Geeks']]\n",
        "print(\"\\nMulti-Dimensional List: \", List)\n",
        "\n",
        "# Accessing particular elements\n",
        "print(List[0])\n",
        "print(List[0][1])\n",
        "print(List[1])\n",
        "# Creating a Dictionary with Integer Keys\n",
        "Dict = {1: 'Geeks', 2: 'For', 3: 'Geeks'}\n",
        "print(\"Dictionary with the use of Integer Keys: \", Dict)\n",
        "\n",
        "# Accessing particular elements\n",
        "print(Dict[1])\n",
        "print(Dict[2])\n",
        "\n",
        "# Creating a Dictionary with Mixed keys\n",
        "Dict = {'Name': 'Geeks', 1: [1, 2, 3, 4]}\n",
        "print(\"\\nDictionary with the use of Mixed Keys: \", Dict)\n",
        "\n",
        "# Accessing particular elements\n",
        "print(Dict['Name'])\n",
        "print(Dict[1])"
      ],
      "metadata": {
        "colab": {
          "base_uri": "https://localhost:8080/"
        },
        "id": "gGXS_2C9pckP",
        "outputId": "bff9112b-8341-46dd-dd19-8adc85b322c3"
      },
      "execution_count": null,
      "outputs": [
        {
          "output_type": "stream",
          "name": "stdout",
          "text": [
            "List containing multiple values:  ['Geeks', 'For', 'Geeks']\n",
            "Geeks\n",
            "e\n",
            "For\n",
            "\n",
            "Multi-Dimensional List:  [['Geeks', 'For'], ['Geeks']]\n",
            "['Geeks', 'For']\n",
            "For\n",
            "['Geeks']\n",
            "Dictionary with the use of Integer Keys:  {1: 'Geeks', 2: 'For', 3: 'Geeks'}\n",
            "Geeks\n",
            "For\n",
            "\n",
            "Dictionary with the use of Mixed Keys:  {'Name': 'Geeks', 1: [1, 2, 3, 4]}\n",
            "Geeks\n",
            "[1, 2, 3, 4]\n"
          ]
        }
      ]
    },
    {
      "cell_type": "markdown",
      "source": [
        "15.Can you modify the elements of a tuple? Explain why or why not?\n",
        "\n",
        "  ->No, you cannot modify the elements of a tuple in Python because tuples are immutable. This means that once a tuple is created, you cannot add, remove, or change its elements.\n",
        "  \n",
        "Explanation\n",
        "\n",
        ".Tuples are different from lists, which are mutable.\n",
        "\n",
        ".If you try to modify a tuple, you will get a TypeError error.\n",
        "\n",
        ".You can concatenate two or more tuples to form a new tuple.\n",
        "\n",
        ".If the element of a tuple is a changeable data type, such as a list, its nested components can be altered.\n",
        "Additional information\n",
        "\n",
        ".You can access the elements of a tuple by using indexing and slicing, similar to how you access elements in a list.\n",
        "\n",
        ".Indexing starts at 0 for the first element and goes up to n-1, where n is the number of elements in the tuple.\n",
        "\n",
        ".Negative indexing starts from -1 for the last element and goes backward."
      ],
      "metadata": {
        "id": "ZnHZoxxfqKaC"
      }
    },
    {
      "cell_type": "markdown",
      "source": [
        "16.What is a nested dictionary, and give an example of its use case?\n",
        "\n",
        "  ->A nested dictionary is a dictionary that is stored within another dictionary. It's a data structure that can be used to store complex data with multiple layers of organization.\n",
        "\n",
        "Example use cases\n",
        "\n",
        ".Employee records: Organize employees by department, with each employee's details in a nested dictionary\n",
        "\n",
        ".Inventory systems: Track product categories, subcategories, and individual product details\n",
        "\n",
        ".JSON data: Nested dictionaries map to the structure of JSON data, making them useful for working with APIs and web services\n",
        "\n",
        "How to create a nested dictionary in Python\n",
        "\n",
        ".Place comma-separated dictionaries within braces\n",
        ".Use a for loop to create a nested dictionary\n",
        "Benefits of using nested dictionaries\n",
        "\n",
        ".They allow you to create multi-level data hierarchies\n",
        ".They make it easier to manage and access complex data\n",
        ".They expand the kind of information that can be modeled in programs"
      ],
      "metadata": {
        "id": "50H0bK16ljqJ"
      }
    },
    {
      "cell_type": "markdown",
      "source": [
        "17.Describe the time complexity of accessing elements in a dictionary?\n",
        "\n",
        "  ->In Python, the time complexity of accessing elements in a dictionary is **O(1)** on average. This means that retrieving a value by its key is done in constant time, regardless of the dictionary's size.\n",
        "\n",
        "However, in rare cases where there are hash collisions (multiple keys hashing to the same value), the time complexity could degrade to **O(n)**, where *n* is the number of elements in the dictionary. But such collisions are minimized due to Python’s efficient handling of hash tables."
      ],
      "metadata": {
        "id": "x1yHHDNftFFm"
      }
    },
    {
      "cell_type": "markdown",
      "source": [
        "18. In what situations are lists preferred over dictionaries?\n",
        "\n",
        "  ->For quick data look-ups, configurations, or caches, favor dictionaries. For ordered collections and sequence operations, such as maintaining a stack or queue, lists are more suitable."
      ],
      "metadata": {
        "id": "_j6WygS7tQEt"
      }
    },
    {
      "cell_type": "markdown",
      "source": [
        "19.Why are dictionaries considered unordered, and how does that affect data retrieval?\n",
        "\n",
        "  ->Dictionaries are considered unordered because they use a **hash table** to store key-value pairs. In a hash table, keys are hashed to determine their location in memory, and this process doesn't preserve the order of insertion. The focus of dictionaries is on **efficient key-based lookup**, not maintaining order.\n",
        "\n",
        "### How it affects data retrieval in theory:\n",
        "\n",
        "- Efficient Lookups**: Data retrieval by key remains **fast** (O(1) average time complexity) because the hash table directly maps keys to values without relying on order.\n",
        "- No Guaranteed Order**: When iterating through the dictionary, the order of items is **not guaranteed**, meaning the elements could appear in any order. However, this doesn't affect the speed of data retrieval by key.\n",
        "\n",
        "In short, dictionaries are unordered because of how they are optimized for fast lookups, and while this doesn't impact key-based retrieval, it means iteration order isn't predictable unless explicitly managed."
      ],
      "metadata": {
        "id": "guAZw1WaMW-w"
      }
    },
    {
      "cell_type": "markdown",
      "source": [
        "20.Explain the difference between a list and a dictionary in terms of data retrieval.\n",
        "\n",
        "->The main difference between a **list** and a **dictionary** in terms of **data retrieval** lies in how they store and access elements:\n",
        "\n",
        "### **List**:\n",
        "- **Structure**: A list is an **ordered collection** of elements indexed by position (integer indices starting from 0).\n",
        "- **Data Retrieval**:\n",
        "  - Retrieval by **index** is **O(1)** (constant time), meaning accessing an element at a specific position is very fast.\n",
        "  - Retrieval by **value** (if you don't know the index) requires **O(n)** time, as you may need to search through the entire list to find the element.\n",
        "\n",
        "### **Dictionary**:\n",
        "- **Structure**: A dictionary stores data in **key-value pairs**, where each key is unique.\n",
        "- **Data Retrieval**:\n",
        "  - Retrieval by **key** is **O(1)** (constant time) on average because dictionaries use a **hash table** to quickly map keys to their associated values.\n",
        "  - There’s no concept of retrieving data by **position** (like an index) since dictionaries are **unordered** (though in Python 3.7+, insertion order is maintained).\n",
        "\n",
        "### Summary:\n",
        "- **List**: Data retrieval is fast by index (O(1)), but slower by value (O(n)).\n",
        "- **Dictionary**: Data retrieval is fast by key (O(1)), but unordered (no indexing)."
      ],
      "metadata": {
        "id": "gxh3rqlCM8pW"
      }
    },
    {
      "cell_type": "markdown",
      "source": [
        "##practical questions"
      ],
      "metadata": {
        "id": "Tjrrv1VEQoyh"
      }
    },
    {
      "cell_type": "code",
      "source": [
        "#Write a code to create a string with your name and print it.\n",
        "\n",
        "my_name = \"frooti\"\n",
        "print(my_name)\n"
      ],
      "metadata": {
        "colab": {
          "base_uri": "https://localhost:8080/"
        },
        "id": "yyyszIdlQuOS",
        "outputId": "39cd3d76-bb21-47cf-b301-411fdfd2f9dc"
      },
      "execution_count": null,
      "outputs": [
        {
          "output_type": "stream",
          "name": "stdout",
          "text": [
            "frooti\n"
          ]
        }
      ]
    },
    {
      "cell_type": "code",
      "source": [
        "#Write a code to find the length of the string \"Hello World\".\n",
        "\n",
        "text = \"Hello World\"\n",
        "length = len(text)\n",
        "print(length)\n"
      ],
      "metadata": {
        "colab": {
          "base_uri": "https://localhost:8080/"
        },
        "id": "Zu-2EFa4SIfx",
        "outputId": "cdceeae8-4338-43e9-a212-0be8e4e059bc"
      },
      "execution_count": null,
      "outputs": [
        {
          "output_type": "stream",
          "name": "stdout",
          "text": [
            "11\n"
          ]
        }
      ]
    },
    {
      "cell_type": "code",
      "source": [
        "#Write a code to slice the first 3 characters from the string \"Python Programming\".\n",
        "\n",
        "text = \"Python Programming\"\n",
        "sliced_text = text[:3]\n",
        "print(sliced_text)\n"
      ],
      "metadata": {
        "colab": {
          "base_uri": "https://localhost:8080/"
        },
        "id": "nRSx3uIzSZrn",
        "outputId": "9c8fcf66-4b86-47b7-e60d-e999a3f44fdb"
      },
      "execution_count": null,
      "outputs": [
        {
          "output_type": "stream",
          "name": "stdout",
          "text": [
            "Pyt\n"
          ]
        }
      ]
    },
    {
      "cell_type": "code",
      "source": [
        "# Write a code to convert the string \"hello\" to uppercase\n",
        "\n",
        "text = \"hello\"\n",
        "uppercase_text = text.upper()\n",
        "print(uppercase_text)\n"
      ],
      "metadata": {
        "colab": {
          "base_uri": "https://localhost:8080/"
        },
        "id": "xj4TaZHHeBR0",
        "outputId": "52771c66-2206-4837-da28-548f084af35e"
      },
      "execution_count": null,
      "outputs": [
        {
          "output_type": "stream",
          "name": "stdout",
          "text": [
            "HELLO\n"
          ]
        }
      ]
    },
    {
      "cell_type": "code",
      "source": [
        "# Write a code to replace the word \"apple\" with \"orange\" in the string \"I like apple\".\n",
        "\n",
        "text = \"I like apple\"\n",
        "modified_text = text.replace(\"apple\", \"orange\")\n",
        "print(modified_text)\n"
      ],
      "metadata": {
        "colab": {
          "base_uri": "https://localhost:8080/"
        },
        "id": "IEPtIO-DeUhc",
        "outputId": "fddefe4a-3234-4a43-8dc2-3b42543b07a4"
      },
      "execution_count": null,
      "outputs": [
        {
          "output_type": "stream",
          "name": "stdout",
          "text": [
            "I like orange\n"
          ]
        }
      ]
    },
    {
      "cell_type": "code",
      "source": [
        "#Write a code to create a list with numbers 1 to 5 and print it.\n",
        "numbers = [1, 2, 3, 4, 5]\n",
        "print(numbers)\n"
      ],
      "metadata": {
        "colab": {
          "base_uri": "https://localhost:8080/"
        },
        "id": "iRQ8nX1uetAw",
        "outputId": "63f691fb-a996-49cf-95be-6869b4d96ac3"
      },
      "execution_count": null,
      "outputs": [
        {
          "output_type": "stream",
          "name": "stdout",
          "text": [
            "[1, 2, 3, 4, 5]\n"
          ]
        }
      ]
    },
    {
      "cell_type": "code",
      "source": [
        "#Write a code to append the number 10 to the list [1, 2, 3, 4].\n",
        "\n",
        "numbers = [1, 2, 3, 4]\n",
        "numbers.append(10)\n",
        "print(numbers)\n"
      ],
      "metadata": {
        "colab": {
          "base_uri": "https://localhost:8080/"
        },
        "id": "uJWN3NPQe7Hw",
        "outputId": "1a001571-fd87-4902-a7d3-2e141aef6240"
      },
      "execution_count": null,
      "outputs": [
        {
          "output_type": "stream",
          "name": "stdout",
          "text": [
            "[1, 2, 3, 4, 10]\n"
          ]
        }
      ]
    },
    {
      "cell_type": "code",
      "source": [
        "#Write a code to remove the number 3 from the list [1, 2, 3, 4, 5].\n",
        "numbers = [1, 2, 3, 4, 5]\n",
        "numbers.remove(3)\n",
        "print(numbers)\n"
      ],
      "metadata": {
        "colab": {
          "base_uri": "https://localhost:8080/"
        },
        "id": "np9uW4qKfPgA",
        "outputId": "469bc8ab-4b27-448e-e5cb-8a10c4385003"
      },
      "execution_count": null,
      "outputs": [
        {
          "output_type": "stream",
          "name": "stdout",
          "text": [
            "[1, 2, 4, 5]\n"
          ]
        }
      ]
    },
    {
      "cell_type": "code",
      "source": [
        "# Write a code to access the second element in the list ['a', 'b', 'c', 'd']\n",
        "letters = ['a', 'b', 'c', 'd']\n",
        "second_element = letters[1]\n",
        "print(second_element)\n"
      ],
      "metadata": {
        "colab": {
          "base_uri": "https://localhost:8080/"
        },
        "id": "TYqAwstQfzD-",
        "outputId": "de4730dd-f5ed-4517-8536-9f282976d741"
      },
      "execution_count": null,
      "outputs": [
        {
          "output_type": "stream",
          "name": "stdout",
          "text": [
            "b\n"
          ]
        }
      ]
    },
    {
      "cell_type": "code",
      "source": [
        "#Write a code to reverse the list [10, 20, 30, 40, 50].\n",
        "numbers = [10, 20, 30, 40, 50]\n",
        "reversed_numbers = numbers[::-1]\n",
        "print(reversed_numbers)\n"
      ],
      "metadata": {
        "colab": {
          "base_uri": "https://localhost:8080/"
        },
        "id": "Cux4ACbrgLHu",
        "outputId": "899c983f-dd86-4fc6-b92f-784dc965b5d0"
      },
      "execution_count": null,
      "outputs": [
        {
          "output_type": "stream",
          "name": "stdout",
          "text": [
            "[50, 40, 30, 20, 10]\n"
          ]
        }
      ]
    },
    {
      "cell_type": "code",
      "source": [
        "# Write a code to create a tuple with the elements 100, 200, 300 and print it.\n",
        "my_tuple = (100, 200, 300)\n",
        "print(my_tuple)\n"
      ],
      "metadata": {
        "colab": {
          "base_uri": "https://localhost:8080/"
        },
        "id": "C9bPActagdZf",
        "outputId": "7754936a-d8af-4ec6-c4f9-4310772b3564"
      },
      "execution_count": null,
      "outputs": [
        {
          "output_type": "stream",
          "name": "stdout",
          "text": [
            "(100, 200, 300)\n"
          ]
        }
      ]
    },
    {
      "cell_type": "code",
      "source": [
        "#Write a code to access the second-to-last element of the tuple ('red', 'green', 'blue', 'yellow')\n",
        "colors = ('red', 'green', 'blue', 'yellow')\n",
        "second_to_last = colors[-2]\n",
        "print(second_to_last)\n"
      ],
      "metadata": {
        "colab": {
          "base_uri": "https://localhost:8080/"
        },
        "id": "NpjUhmsfhA-e",
        "outputId": "d46e4a14-af98-4286-eca6-9165ce406735"
      },
      "execution_count": null,
      "outputs": [
        {
          "output_type": "stream",
          "name": "stdout",
          "text": [
            "blue\n"
          ]
        }
      ]
    },
    {
      "cell_type": "code",
      "source": [
        "# Write a code to find the minimum number in the tuple (10, 20, 5, 15).\n",
        "numbers = (10, 20, 5, 15)\n",
        "min_number = min(numbers)\n",
        "print(min_number)\n"
      ],
      "metadata": {
        "colab": {
          "base_uri": "https://localhost:8080/"
        },
        "id": "NekQg4Z3hU1e",
        "outputId": "9e509654-7b98-4101-87c4-80a7002281b2"
      },
      "execution_count": null,
      "outputs": [
        {
          "output_type": "stream",
          "name": "stdout",
          "text": [
            "5\n"
          ]
        }
      ]
    },
    {
      "cell_type": "code",
      "source": [
        "#Write a code to find the index of the element \"cat\" in the tuple ('dog', 'cat', 'rabbit')\n",
        "animals = ('dog', 'cat', 'rabbit')\n",
        "index_of_cat = animals.index('cat')\n",
        "print(index_of_cat)\n"
      ],
      "metadata": {
        "colab": {
          "base_uri": "https://localhost:8080/"
        },
        "id": "ngxisZ7Chhsv",
        "outputId": "e4bba7fa-94a5-4920-914b-60d100ace29e"
      },
      "execution_count": null,
      "outputs": [
        {
          "output_type": "stream",
          "name": "stdout",
          "text": [
            "1\n"
          ]
        }
      ]
    },
    {
      "cell_type": "code",
      "source": [
        "# Write a code to create a tuple containing three different fruits and check if \"kiwi\" is in it.\n",
        "fruits = ('apple', 'banana', 'cherry')\n",
        "is_kiwi_in_tuple = 'kiwi' in fruits\n",
        "print(is_kiwi_in_tuple)\n"
      ],
      "metadata": {
        "colab": {
          "base_uri": "https://localhost:8080/"
        },
        "id": "-CUzrL5rh4l1",
        "outputId": "de4e3bd8-1f39-46e4-cc65-4d7290970193"
      },
      "execution_count": null,
      "outputs": [
        {
          "output_type": "stream",
          "name": "stdout",
          "text": [
            "False\n"
          ]
        }
      ]
    },
    {
      "cell_type": "code",
      "source": [
        "# Write a code to create a set with the elements 'a', 'b', 'c' and print it.\n",
        "my_set = {'a', 'b', 'c'}\n",
        "print(my_set)\n"
      ],
      "metadata": {
        "colab": {
          "base_uri": "https://localhost:8080/"
        },
        "id": "KLtVyjOPiJ_W",
        "outputId": "70050df6-3b4d-4ce2-ae47-b50606916d2e"
      },
      "execution_count": null,
      "outputs": [
        {
          "output_type": "stream",
          "name": "stdout",
          "text": [
            "{'c', 'b', 'a'}\n"
          ]
        }
      ]
    },
    {
      "cell_type": "code",
      "source": [
        "# Write a code to clear all elements from the set {1, 2, 3, 4, 5}.\n",
        "my_set = {1, 2, 3, 4, 5}\n",
        "my_set.clear()\n",
        "print(my_set)\n",
        "\n"
      ],
      "metadata": {
        "colab": {
          "base_uri": "https://localhost:8080/"
        },
        "id": "H-jy8tn2if0_",
        "outputId": "a1a45f92-c6e2-440f-bae2-ad24834394c9"
      },
      "execution_count": null,
      "outputs": [
        {
          "output_type": "stream",
          "name": "stdout",
          "text": [
            "set()\n"
          ]
        }
      ]
    },
    {
      "cell_type": "code",
      "source": [
        "# Write a code to remove the element 4 from the set {1, 2, 3, 4}.\n",
        "my_set = {1, 2, 3, 4}\n",
        "my_set.remove(4)\n",
        "print(my_set)\n"
      ],
      "metadata": {
        "colab": {
          "base_uri": "https://localhost:8080/"
        },
        "id": "CQTDkQZljvaB",
        "outputId": "fb28c7f2-0bb7-4e5d-ce20-64d9d4e59382"
      },
      "execution_count": null,
      "outputs": [
        {
          "output_type": "stream",
          "name": "stdout",
          "text": [
            "{1, 2, 3}\n"
          ]
        }
      ]
    },
    {
      "cell_type": "code",
      "source": [
        "#Write a code to find the union of two sets {1, 2, 3} and {3, 4, 5}.\n",
        "set1 = {1, 2, 3}\n",
        "set2 = {3, 4, 5}\n",
        "union_set = set1.union(set2)\n",
        "print(union_set)\n"
      ],
      "metadata": {
        "colab": {
          "base_uri": "https://localhost:8080/"
        },
        "id": "1ZDfig1_kVX7",
        "outputId": "359ac5a5-e186-472d-a0f2-814590d5d559"
      },
      "execution_count": null,
      "outputs": [
        {
          "output_type": "stream",
          "name": "stdout",
          "text": [
            "{1, 2, 3, 4, 5}\n"
          ]
        }
      ]
    },
    {
      "cell_type": "code",
      "source": [
        "#Write a code to find the intersection of two sets {1, 2, 3} and {2, 3, 4}.\n",
        "set1 = {1, 2, 3}\n",
        "set2 = {2, 3, 4}\n",
        "intersection_set = set1.intersection(set2)\n",
        "print(intersection_set)\n"
      ],
      "metadata": {
        "colab": {
          "base_uri": "https://localhost:8080/"
        },
        "id": "WIEo1Bh0krm0",
        "outputId": "65f1ba5f-192d-4f1a-9314-41bafff2756c"
      },
      "execution_count": null,
      "outputs": [
        {
          "output_type": "stream",
          "name": "stdout",
          "text": [
            "{2, 3}\n"
          ]
        }
      ]
    },
    {
      "cell_type": "code",
      "source": [
        "#Write a code to create a dictionary with the keys \"name\", \"age\", and \"city\", and print it.\n",
        "# Create the dictionary\n",
        "person = {\n",
        "    \"name\": \"manya srivastava\",\n",
        "    \"age\": 20,\n",
        "    \"city\": \"Delhi\"\n",
        "}\n",
        "\n",
        "# Print the dictionary\n",
        "print(person)\n"
      ],
      "metadata": {
        "colab": {
          "base_uri": "https://localhost:8080/"
        },
        "id": "JtEx9C6XnKih",
        "outputId": "ea53b4bd-6f25-4527-a896-4b9edad4e28d"
      },
      "execution_count": null,
      "outputs": [
        {
          "output_type": "stream",
          "name": "stdout",
          "text": [
            "{'name': 'manya srivastava', 'age': 20, 'city': 'Delhi'}\n"
          ]
        }
      ]
    },
    {
      "cell_type": "code",
      "source": [
        "# Write a code to add a new key-value pair \"country\": \"USA\" to the dictionary {'name': 'John', 'age': 25}.\n",
        "# Define the dictionary\n",
        "person = {'name': 'akansha bhatnagar', 'age': 24}\n",
        "\n",
        "# Add the new key-value pair\n",
        "person['country'] = 'INDIA'\n",
        "\n",
        "# Print the updated dictionary\n",
        "print(person)\n"
      ],
      "metadata": {
        "colab": {
          "base_uri": "https://localhost:8080/"
        },
        "id": "l7BXvHjAnhT6",
        "outputId": "751e929e-2e02-45ba-c30d-95ec6d4cab4e"
      },
      "execution_count": null,
      "outputs": [
        {
          "output_type": "stream",
          "name": "stdout",
          "text": [
            "{'name': 'akansha bhatnagar', 'age': 24, 'country': 'INDIA'}\n"
          ]
        }
      ]
    },
    {
      "cell_type": "code",
      "source": [
        "# Write a code to access the value associated with the key \"name\" in the dictionary {'name': 'Alice', 'age': 30}.\n",
        "person = {'name': 'alu', 'age': 21}\n",
        "name_value = person['name']\n",
        "print(name_value)\n"
      ],
      "metadata": {
        "colab": {
          "base_uri": "https://localhost:8080/"
        },
        "id": "bX5-JxKan60U",
        "outputId": "947691e0-0a0b-4400-ee4e-e6fe326583bb"
      },
      "execution_count": null,
      "outputs": [
        {
          "output_type": "stream",
          "name": "stdout",
          "text": [
            "alu\n"
          ]
        }
      ]
    },
    {
      "cell_type": "code",
      "source": [
        "# Write a code to remove the key \"age\" from the dictionary {'name': 'Bob', 'age': 22, 'city': 'New York'}.\n",
        "person = {'name': 'nano', 'age': 23, 'city': 'INDIA'}\n",
        "del person['age']\n",
        "print(person)\n"
      ],
      "metadata": {
        "colab": {
          "base_uri": "https://localhost:8080/"
        },
        "id": "SX2ppxBjoUs9",
        "outputId": "32b26c00-1c70-4713-9f05-f530ad121fd8"
      },
      "execution_count": null,
      "outputs": [
        {
          "output_type": "stream",
          "name": "stdout",
          "text": [
            "{'name': 'nano', 'city': 'INDIA'}\n"
          ]
        }
      ]
    },
    {
      "cell_type": "code",
      "source": [
        "#Write a code to check if the key \"city\" exists in the dictionary {'name': 'Alice', 'city': 'Paris'}.\n",
        "person = {'name': 'Aditya', 'city': 'INDIA'}\n",
        "if 'city' in person:\n",
        "    print(\"The key 'city' exists in the dictionary.\")\n",
        "else:\n",
        "    print(\"The key 'city' does not exist in the dictionary.\")\n"
      ],
      "metadata": {
        "colab": {
          "base_uri": "https://localhost:8080/"
        },
        "id": "nSR0rhKsonkR",
        "outputId": "33feeedc-6e60-4e2e-d4d3-f76134501dca"
      },
      "execution_count": null,
      "outputs": [
        {
          "output_type": "stream",
          "name": "stdout",
          "text": [
            "The key 'city' exists in the dictionary.\n"
          ]
        }
      ]
    },
    {
      "cell_type": "code",
      "source": [
        "# Write a code to create a list, a tuple, and a dictionary, and print them all.\n",
        "my_list = [1, 2, 3, 4, 5]\n",
        "my_tuple = ('guava', 'orange', 'pineapple')\n",
        "my_dict = {'name': 'Aditya', 'age': 22, 'city': 'INDIA'}\n",
        "print(\"List:\", my_list)\n",
        "print(\"Tuple:\", my_tuple)\n",
        "print(\"Dictionary:\", my_dict)\n"
      ],
      "metadata": {
        "colab": {
          "base_uri": "https://localhost:8080/"
        },
        "id": "-uzAA3tspBmz",
        "outputId": "5783d011-43de-4191-b4de-02bf23fa07ca"
      },
      "execution_count": null,
      "outputs": [
        {
          "output_type": "stream",
          "name": "stdout",
          "text": [
            "List: [1, 2, 3, 4, 5]\n",
            "Tuple: ('guava', 'orange', 'pineapple')\n",
            "Dictionary: {'name': 'Aditya', 'age': 22, 'city': 'INDIA'}\n"
          ]
        }
      ]
    },
    {
      "cell_type": "code",
      "source": [
        "#Write a code to create a list of 5 random numbers between 1 and 100, sort it in ascending order, and print the result.(replaced)\n",
        "import random\n",
        "\n",
        "random_numbers = [random.randint(1, 100) for _ in range(5)]\n",
        "random_numbers.sort()\n",
        "print(random_numbers)\n"
      ],
      "metadata": {
        "colab": {
          "base_uri": "https://localhost:8080/"
        },
        "id": "HfSc3_8BpfWd",
        "outputId": "a27cb5c4-2f48-48ac-d2c3-80648468eb5f"
      },
      "execution_count": null,
      "outputs": [
        {
          "output_type": "stream",
          "name": "stdout",
          "text": [
            "[8, 49, 58, 85, 90]\n"
          ]
        }
      ]
    },
    {
      "cell_type": "code",
      "source": [
        "#Write a code to create a list with strings and print the element at the third index.c\n",
        "my_list = [\"apple\", \"banana\", \"cherry\", \"Time\", \"elderberry\"]\n",
        "print(my_list[3])\n"
      ],
      "metadata": {
        "colab": {
          "base_uri": "https://localhost:8080/"
        },
        "id": "l6_AwmIUp4bK",
        "outputId": "f50de669-9fb4-4f3b-d804-7b6d48c8b27a"
      },
      "execution_count": null,
      "outputs": [
        {
          "output_type": "stream",
          "name": "stdout",
          "text": [
            "Time\n"
          ]
        }
      ]
    },
    {
      "cell_type": "code",
      "source": [
        "#Write a code to combine two dictionaries into one and print the result.  es\n",
        "dict1 = {'name': 'ADitya', 'age': 23}\n",
        "dict2 = {'city': 'Patna', 'country': 'India'}\n",
        "dict1.update(dict2)\n",
        "print(dict1)\n",
        "\n"
      ],
      "metadata": {
        "colab": {
          "base_uri": "https://localhost:8080/"
        },
        "id": "pX-WiCRcqS07",
        "outputId": "81e2b564-7b7e-47eb-9232-60c5966355f4"
      },
      "execution_count": null,
      "outputs": [
        {
          "output_type": "stream",
          "name": "stdout",
          "text": [
            "{'name': 'ADitya', 'age': 23, 'city': 'Patna', 'country': 'India'}\n"
          ]
        }
      ]
    },
    {
      "cell_type": "code",
      "source": [
        "combined_dict = {**dict1, **dict2}\n",
        "print(combined_dict)\n"
      ],
      "metadata": {
        "colab": {
          "base_uri": "https://localhost:8080/"
        },
        "id": "HV15EkE1rH7j",
        "outputId": "44da8a6d-06db-468b-d6e0-70aa3a9aab6a"
      },
      "execution_count": null,
      "outputs": [
        {
          "output_type": "stream",
          "name": "stdout",
          "text": [
            "{'name': 'ADitya', 'age': 23, 'city': 'Patna', 'country': 'India'}\n"
          ]
        }
      ]
    },
    {
      "cell_type": "code",
      "source": [
        "# Write a code to convert a list of strings into a set.\n",
        "string_list = [\"apple\", \"banana\", \"cherry\", \"apple\", \"date\"]\n",
        "string_set = set(string_list)\n",
        "print(string_set)\n"
      ],
      "metadata": {
        "colab": {
          "base_uri": "https://localhost:8080/"
        },
        "id": "-ONFGwgKrU2E",
        "outputId": "33cdf1fc-4176-408d-a1b3-bb71453d892c"
      },
      "execution_count": null,
      "outputs": [
        {
          "output_type": "stream",
          "name": "stdout",
          "text": [
            "{'apple', 'cherry', 'date', 'banana'}\n"
          ]
        }
      ]
    }
  ]
}